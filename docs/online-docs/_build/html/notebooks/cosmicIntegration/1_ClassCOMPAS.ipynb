{
 "cells": [
  {
   "cell_type": "markdown",
   "metadata": {},
   "source": [
    "# The COMPAS class\n",
    "\n",
    "## 1. Introduction\n",
    "\n",
    "In order to calculate the formation rate of a type of double compact object at a given redshift, we need to know:\n",
    "\n",
    "1. The grid of metallicities we assume for the integral\n",
    "\n",
    "2. The amount of solar mass evolved per metallicity per system $\\frac{d}{dM_\\odot}(Z)$\n",
    "\n",
    "3. The type of double compact object (DCO) we are interested in \n",
    "\n",
    "4. The metallicity $Z$ at which each DCO formed and the delay time (time from formation till merger) $t_c$ for each DCO\n",
    "\n",
    "\n",
    "Given a time at which the DCO merges, we can then calculate the time at which it formed, so we can recover the MSSFR ($\\frac{dM_\\odot}{dt}$).\n",
    "\n",
    "\n",
    "In addition, we need to know the component masses of the system in order to calculate any selection effects.\n",
    "\n",
    "The COMPAS class (ClassCOMPAS.py) stores the information that we need, and provides quick access when calculating the rates."
   ]
  },
  {
   "cell_type": "markdown",
   "metadata": {},
   "source": [
    "### 1.1 Paths"
   ]
  },
  {
   "cell_type": "code",
   "execution_count": 7,
   "metadata": {},
   "outputs": [],
   "source": [
    "import os\n",
    "pathNoteBook     = os.getcwd()\n",
    "pathClassCOMPAS  = pathNoteBook + '/PythonScripts/'\n",
    "pathData         = '/path-to-data/'"
   ]
  },
  {
   "cell_type": "markdown",
   "metadata": {},
   "source": [
    "### 1.2 Imports"
   ]
  },
  {
   "cell_type": "code",
   "execution_count": 8,
   "metadata": {},
   "outputs": [],
   "source": [
    "import numpy as np\n",
    "import sys\n",
    "sys.path.append(pathClassCOMPAS)\n",
    "import ClassCOMPAS"
   ]
  },
  {
   "cell_type": "markdown",
   "metadata": {},
   "source": [
    "## 2. Creating an instance of the COMPAS class"
   ]
  },
  {
   "cell_type": "markdown",
   "metadata": {},
   "source": [
    "To create an instance of the COMPAS output class, we need to specify the following attributes:\n",
    "\n",
    "    path           = '../'\n",
    "    fileName       = 'COMPAS_Output.h5'\n",
    "    \n",
    "    lazyData       = True\n",
    "    \n",
    "    Mlower         = None\n",
    "    Mupper         = None\n",
    "    \n",
    "    binaryFraction = None"
   ]
  },
  {
   "cell_type": "markdown",
   "metadata": {},
   "source": [
    "`path`\n",
    "\n",
    "Path to the h5-data. \n",
    "\n",
    "`fileName`\n",
    "\n",
    "Name of the h5 data\n",
    "\n",
    "`lazyData`\n",
    "\n",
    "Indicates we store additional info like the mass ratios, chirpmasses of each DCO system. In principle this could be done externally, but this is slightly easier when plotting/combining info later on (but it does use more memory).\n",
    "    \n",
    "    \n",
    "`Mlower`\n",
    "\n",
    "Lower limit used for $M_1$ in the pythonSubmit of the simulation. Required to recover `true' amount of $M_{\\odot}$ evolved (see step 4)\n",
    "\n",
    "`Mupper`\n",
    "\n",
    "Upper limit used for $M_1$ in the pythonSubmit of the simulation. Required to recover `true' amount of $M_{\\odot}$ evolved (see step 4)\n",
    "\n",
    "`binaryFraction`\n",
    "\n",
    "\n",
    "Assumed fraction of stars in binaries. Required to recover `true' amount of $M_{\\odot}$ evolved (see step 4)\n"
   ]
  },
  {
   "cell_type": "code",
   "execution_count": 9,
   "metadata": {
    "scrolled": true
   },
   "outputs": [
    {
     "name": "stdout",
     "output_type": "stream",
     "text": [
      "\n",
      "ClassCOMPAS: Remember to self.setCOMPASDCOmask()\n",
      "                    then self.setCOMPASData()\n",
      "          and optionally self.setGridAndMassEvolved() if using a metallicity grid\n"
     ]
    }
   ],
   "source": [
    "#I assume all the defaults and just set the path\n",
    "COMPASData = ClassCOMPAS.COMPASData(path=pathData)"
   ]
  },
  {
   "cell_type": "markdown",
   "metadata": {},
   "source": [
    "The output are reminders which will be explained in next steps."
   ]
  },
  {
   "cell_type": "markdown",
   "metadata": {},
   "source": [
    "## 3. Total mass evolved\n",
    "\n",
    "In a COMPAS simulation we often only evolve massive stars. This means that the total mass in our simulation does not represent the total mass evolved in all stars. Here we recover an estimate of what that total mass is using the lower and upper mass for the primary from your program options (via the command line or a python submit file), and assuming a binary fraction.\n",
    "\n",
    "The code will then check your data, and test per metallicity how much mass is evolved. It assumes the metallicities are subject to the same program options, but maybe due to sampling had a different number of systems. It also recovers from the data what metallicity grid is used."
   ]
  },
  {
   "cell_type": "code",
   "execution_count": 10,
   "metadata": {},
   "outputs": [],
   "source": [
    "COMPASData.Mlower = 15\n",
    "COMPASData.Mupper = 150\n",
    "COMPASData.binaryFraction =0.7\n",
    "\n",
    "COMPASData.setGridAndMassEvolved()"
   ]
  },
  {
   "cell_type": "markdown",
   "metadata": {},
   "source": [
    "## 3.1 The grid of metallicities we assume for the integral"
   ]
  },
  {
   "cell_type": "markdown",
   "metadata": {},
   "source": [
    "By default, the COMPAS class will automatically try to recover the metallicity grid from the data. It assumes that metallicities of all the systems in the h5-data represent the assumed metallicity grid for the calculation.\n",
    "\n",
    "    metallicities        = Data['BSE_System_Parameters']['Metallicity@ZAMS(1)'][()]\n",
    "    self.metallicityGrid = np.unique(metallicities)"
   ]
  },
  {
   "cell_type": "markdown",
   "metadata": {},
   "source": [
    "In principle you could instead overwrite this with your own metallicity grid: remember to reassign the metallicities of each DCO and the amount of solar mass evolved per metallicity.\n",
    "\n",
    "However, we leave it at that for now. You can access the grid by printing:"
   ]
  },
  {
   "cell_type": "code",
   "execution_count": 11,
   "metadata": {},
   "outputs": [
    {
     "name": "stdout",
     "output_type": "stream",
     "text": [
      "\n",
      "[0.00142]\n"
     ]
    }
   ],
   "source": [
    "print(COMPASData.metallicityGrid)"
   ]
  },
  {
   "cell_type": "markdown",
   "metadata": {},
   "source": [
    "## 4. The amount of solar mass evolved per system per Z"
   ]
  },
  {
   "cell_type": "markdown",
   "metadata": {},
   "source": [
    "Again, by default, the COMPAS class will automatically recover the amount of 'true' solar mass evolved per system using the `totalMassEvolvedPerZ` script, and by reading the total mass per system in the simulation. This recovers an amount of solar mass per metallicity of the metallicity grid (units $M_{\\odot}$)."
   ]
  },
  {
   "cell_type": "code",
   "execution_count": 12,
   "metadata": {},
   "outputs": [
    {
     "name": "stdout",
     "output_type": "stream",
     "text": [
      "\n",
      "[423202.1360283]\n"
     ]
    }
   ],
   "source": [
    "print(COMPASData.totalMassEvolvedPerZ)"
   ]
  },
  {
   "cell_type": "markdown",
   "metadata": {},
   "source": [
    "## 5. Selecting the DCO type of interest"
   ]
  },
  {
   "cell_type": "markdown",
   "metadata": {},
   "source": [
    "We use a boolean mask to recover the metallicities, delay times, and other parameters, of the DCOs of interest. The boolean mask, which has the same length as the DCO h5 group, selects the systems we want to include in the calculation. \n",
    "\n",
    "You could set your own mask using any combination you want by:\n",
    "\n",
    "    maskDCO = some criteria you like on the h5 data\n",
    "    COMPASData.DCOmask = maskDCO\n",
    "    \n",
    "\n",
    "However, we are usually interested in a specific group of merging DCOs, assuming a type of physics. The `setCOMPASDCOmask()` function allows you to quickly set the mask without doing the slicing yourself, and takes the following arguments:\n",
    "\n",
    "`types`\n",
    "\n",
    "    Type of double compact object (DCO) to mask for.\n",
    "    One of: {'BBH', 'BNS', 'BHNS', 'CHE_BBH', 'NON_CHE_BBH', 'All'}, default = 'BBH'\n",
    "\n",
    "    'BBH' masks for all binary black holes.\n",
    "    'CHE_BBH' masks for only those BBHs where both constituent stars evolved as CH stars for their entire MS lifetime.\n",
    "    'NON_CHE_BBH' masks for only those BBHs where one or both constituent stars did not evolve as CH stars for their entire MS lifetime.\n",
    "    'BNS' masks for all binary neutron stars.\n",
    "    'BHNS' masks for all black hole - neutron star binaries.\n",
    "    'All' masks for BBHs (both CHE and NON-CHE), BNSs, and BHNSs.\n",
    "\n",
    "`withinHubbleTime`\n",
    "\n",
    "    One of: {True, False}, default = True\n",
    "    If True, only use DCOs that merge within a Hubble time.\n",
    "\n",
    "`pessimistic`\n",
    "\n",
    "    One of: {True, False}, default = True\n",
    "    If True, mask out DCOs that have formed through a common-envelope event involving a Hertzsprung-gap donor.\n",
    "\n",
    "`noRLOFafterCEE`\n",
    "\n",
    "    One of: {True, False}, default = True\n",
    "    If True, mask out DCOs that have at some point experienced RLOF immediately after a common-envelope event."
   ]
  },
  {
   "cell_type": "code",
   "execution_count": 17,
   "metadata": {},
   "outputs": [],
   "source": [
    "COMPASData.setCOMPASDCOmask(types='BBH', pessimistic=True)"
   ]
  },
  {
   "cell_type": "code",
   "execution_count": 18,
   "metadata": {},
   "outputs": [
    {
     "name": "stdout",
     "output_type": "stream",
     "text": [
      "\n",
      "nr systems =19 \n"
     ]
    }
   ],
   "source": [
    "#Check if we have any system meeting the criteria\n",
    "print('nr systems =%s ' %(np.sum(COMPASData.DCOmask)))"
   ]
  },
  {
   "cell_type": "markdown",
   "metadata": {},
   "source": [
    "## 6. Get the metallicities and delay times\n",
    "\n",
    "Using the DCO mask defined in step 3, the class can now get the parameters of interest for each merging DCO:\n"
   ]
  },
  {
   "cell_type": "code",
   "execution_count": 19,
   "metadata": {},
   "outputs": [],
   "source": [
    "COMPASData.setCOMPASData()"
   ]
  },
  {
   "cell_type": "markdown",
   "metadata": {},
   "source": [
    "Now the data is set and you are ready to go."
   ]
  },
  {
   "cell_type": "markdown",
   "metadata": {},
   "source": [
    "\n",
    "## 7. For different data"
   ]
  },
  {
   "cell_type": "markdown",
   "metadata": {
    "collapsed": true
   },
   "source": [
    "If you have your own simulation which is different from the COMPAS data, or you want to test a toy model, you can still use the set of pipelines for the cosmic integration.\n",
    "\n",
    "The only thing you need to do is construct your own arrays.\n",
    "\n",
    "Create an instance of the clasCOMPAS without a path:"
   ]
  },
  {
   "cell_type": "code",
   "execution_count": 20,
   "metadata": {},
   "outputs": [
    {
     "name": "stdout",
     "output_type": "stream",
     "text": [
      "Just to double check you create instance of ClassCOMPAS without path/Data\n",
      "ClassCOMPAS: Remember to self.setCOMPASDCOmask()\n",
      "                    then self.setCOMPASData()\n",
      "          and optionally self.setGridAndMassEvolved() if using a metallicity grid\n"
     ]
    }
   ],
   "source": [
    "MockData = ClassCOMPAS.COMPASData(path=None)"
   ]
  },
  {
   "cell_type": "markdown",
   "metadata": {},
   "source": [
    "Then manually set each array for:\n",
    "\n",
    "    #grid for integral\n",
    "    MockData.metallicityGrid\n",
    "    MockData.totalMassEvolvedPerZ #same length array as grid\n",
    "    \n",
    "    #Metallicity of each system corresponding to a grid-point\n",
    "    MockData.metallicitySystems\n",
    "    MockData.delayTimes  #Myr\n",
    "    MockData.mass1       #Msun\n",
    "    MockData.mass2       #Msun    \n",
    "    #All four arrays are same length since they correspond to number of systems"
   ]
  },
  {
   "cell_type": "markdown",
   "metadata": {},
   "source": [
    "All other pipelines just read arrays and are independent of the data."
   ]
  },
  {
   "cell_type": "markdown",
   "metadata": {},
   "source": [
    "So you could sample from the IMF for $M_1$ and $M_2$, create a grid in metallicities and uniformly sample from the grid, and then sample from a $t^{-1}$ delay time distribution (just note the assumed units :))\n",
    "\n",
    "If you then set `totalMassEvolvedperZ` to an array of ones, you can at least create predictions for the shape of the merger rate distributions - since this array is only a normalization affecting the absolute rates."
   ]
  }
 ],
 "metadata": {
  "kernelspec": {
   "display_name": "Python 3 (ipykernel)",
   "language": "python",
   "name": "python3"
  },
  "language_info": {
   "codemirror_mode": {
    "name": "ipython",
    "version": 3
   },
   "file_extension": ".py",
   "mimetype": "text/x-python",
   "name": "python",
   "nbconvert_exporter": "python",
   "pygments_lexer": "ipython3",
   "version": "3.9.5"
  }
 },
 "nbformat": 4,
 "nbformat_minor": 2
}
