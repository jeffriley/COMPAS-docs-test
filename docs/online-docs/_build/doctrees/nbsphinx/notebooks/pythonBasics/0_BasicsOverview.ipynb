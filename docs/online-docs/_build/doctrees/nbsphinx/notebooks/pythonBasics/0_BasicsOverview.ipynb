{
 "cells": [
  {
   "cell_type": "markdown",
   "metadata": {},
   "source": [
    "# Some Python basics\n",
    "## 1. Introduction\n",
    "\n",
    "\n",
    "Most of the COMPAS post-processing tools use Python code. Here we show two important basics of Python programming in the context of investigating your COMPAS simulation. Visit [python.org](https://www.python.org/) for detailed information regarding ``Python``.\n",
    "\n",
    "\n",
    "## 2. Material\n",
    "\n",
    "### 2.1 [Slicing the data](./1_slicingData.ipynb)\n",
    "How to select specific systems and their parameters using seeds.\n",
    "\n",
    "### 2.2 [Visualising the data](./2_visualisingData.ipynb)\n",
    "The basics of binning and visualising your data."
   ]
  }
 ],
 "metadata": {
  "kernelspec": {
   "display_name": "Python 3 (ipykernel)",
   "language": "python",
   "name": "python3"
  },
  "language_info": {
   "codemirror_mode": {
    "name": "ipython",
    "version": 3
   },
   "file_extension": ".py",
   "mimetype": "text/x-python",
   "name": "python",
   "nbconvert_exporter": "python",
   "pygments_lexer": "ipython3",
   "version": "3.9.5"
  }
 },
 "nbformat": 4,
 "nbformat_minor": 2
}
