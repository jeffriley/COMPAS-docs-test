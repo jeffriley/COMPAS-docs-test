{
 "cells": [
  {
   "cell_type": "markdown",
   "metadata": {},
   "source": [
    "# rewrite_H5.py\n",
    "## 1. Introduction\n",
    "\n",
    "The COMPAS simulations might be very large in data size while the actual data you need to reproduce your results could be small, so it might make sense to reduce the number of files and columns based on some criteria.\n",
    "\n",
    "Here we show how you can reduce your data. The main things you need are:\n",
    "\n",
    "1 - The seeds you want to have in your data.\n",
    "\n",
    "2 - The files you want in your data.\n",
    "\n",
    "3 - The columns (parameters) you want for each file.\n",
    "\n",
    "The plain Python script to do this is `$COMPAS_ROOT_DIR/postProcessing/Folders/H5/rewrite_H5.py`. Here we just show an example of how to call the script in order to reduce the data."
   ]
  },
  {
   "cell_type": "markdown",
   "metadata": {},
   "source": [
    "### 1.1 Paths needed"
   ]
  },
  {
   "cell_type": "code",
   "execution_count": 1,
   "metadata": {
    "execution": {
     "iopub.execute_input": "2021-10-31T02:54:39.449116Z",
     "iopub.status.busy": "2021-10-31T02:54:39.448794Z",
     "iopub.status.idle": "2021-10-31T02:54:39.451864Z",
     "shell.execute_reply": "2021-10-31T02:54:39.452134Z"
    }
   },
   "outputs": [],
   "source": [
    "# Set the appropriate paths to the input and output data files\n",
    "\n",
    "pathToDataInput  = '../COMPAS_Output.h5'         \n",
    "pathToDataOutput = '../COMPAS_Output_reduced.h5' "
   ]
  },
  {
   "cell_type": "markdown",
   "metadata": {},
   "source": [
    "### 1.2 Imports"
   ]
  },
  {
   "cell_type": "code",
   "execution_count": 2,
   "metadata": {
    "execution": {
     "iopub.execute_input": "2021-10-31T02:54:39.454776Z",
     "iopub.status.busy": "2021-10-31T02:54:39.454476Z",
     "iopub.status.idle": "2021-10-31T02:54:39.532932Z",
     "shell.execute_reply": "2021-10-31T02:54:39.532632Z"
    }
   },
   "outputs": [],
   "source": [
    "import h5py  as h5  # For handling data format\n",
    "import sys\n",
    "\n",
    "# Import the rewrite_H5.py script\n",
    "sys.path.append('PythonScripts/')\n",
    "import rewrite_H5"
   ]
  },
  {
   "cell_type": "markdown",
   "metadata": {},
   "source": [
    "## 2. Load the Data"
   ]
  },
  {
   "cell_type": "code",
   "execution_count": 3,
   "metadata": {
    "execution": {
     "iopub.execute_input": "2021-10-31T02:54:39.536525Z",
     "iopub.status.busy": "2021-10-31T02:54:39.536205Z",
     "iopub.status.idle": "2021-10-31T02:54:39.538150Z",
     "shell.execute_reply": "2021-10-31T02:54:39.537888Z"
    }
   },
   "outputs": [
    {
     "name": "stdout",
     "output_type": "stream",
     "text": [
      "The main files I have at my disposal are:\n",
      " ['BSE_Common_Envelopes', 'BSE_Double_Compact_Objects', 'BSE_RLOF', 'BSE_Supernovae', 'BSE_System_Parameters', 'Run_Details']\n"
     ]
    }
   ],
   "source": [
    "Data  = h5.File(pathToDataInput)\n",
    "print(\"The main files I have at my disposal are:\\n\",list(Data.keys()))"
   ]
  },
  {
   "cell_type": "code",
   "execution_count": 4,
   "metadata": {
    "execution": {
     "iopub.execute_input": "2021-10-31T02:54:39.540033Z",
     "iopub.status.busy": "2021-10-31T02:54:39.539672Z",
     "iopub.status.idle": "2021-10-31T02:54:39.541050Z",
     "shell.execute_reply": "2021-10-31T02:54:39.541300Z"
    }
   },
   "outputs": [],
   "source": [
    "# To see the parameter choices in each file, use, e.g:\n",
    "#print(list(Data['BSE_System_Parameters']))"
   ]
  },
  {
   "cell_type": "markdown",
   "metadata": {},
   "source": [
    "## 3. Specify which files and columns you want\n",
    "\n",
    "We use dictionaries to specifically link all the entries:\n",
    "\n",
    "- The `filesOfInterest` dictionary should contain all files which hold any relevant data.\n",
    "\n",
    "- The `columnsOfInterest` dictionary specifies the parameters in each file that you want to be included in the new output HDF5 file.\n",
    "\n",
    "- Any filters or masks should be used to determine the `seedsOfInterest` (on a per file basis), and so do not need to be included in the `columnsOfInterest` dictionary."
   ]
  },
  {
   "cell_type": "markdown",
   "metadata": {},
   "source": [
    "### 3.1 Hypothetical example\n",
    "\n",
    "Suppose you are studying double neutron star (DNS) systems, and you want to know the initial parameters of both components. Suppose you are separately curious about the eccentricity of systems following a supernova (SN) that leaves the binary intact, and you want to use the same COMPAS run to save on CPU hours.\n",
    "\n",
    "- To be safe, you should probably keep the entire `BSE_System_Parameters` file, which contains all of the initial system settings.\n",
    "\n",
    "- To get information about only DNSs, you will need to create a mask for them from the `BSE_Double_Compact_Objects` file.\n",
    "\n",
    "- Information on post-SN eccentricity and whether or not the system disrupted is found in the `BSE_Supernovae` file.\n",
    "\n",
    "You will not need any other files. You will also want to grab the 'SEED' column from any file, since the seed is the unique identifier of each binary."
   ]
  },
  {
   "cell_type": "code",
   "execution_count": 5,
   "metadata": {
    "execution": {
     "iopub.execute_input": "2021-10-31T02:54:39.543774Z",
     "iopub.status.busy": "2021-10-31T02:54:39.543464Z",
     "iopub.status.idle": "2021-10-31T02:54:39.544797Z",
     "shell.execute_reply": "2021-10-31T02:54:39.545042Z"
    }
   },
   "outputs": [],
   "source": [
    "# Which files do you want?\n",
    "filesOfInterest   = {1:'BSE_System_Parameters',\\\n",
    "                     2:'BSE_Double_Compact_Objects',\\\n",
    "                     3:'BSE_Supernovae'}\n",
    "\n",
    "# Give a list of columns you want, if you want all, say ['All']\n",
    "columnsOfInterest = {1:['All'],\\\n",
    "                     2:['All'],\\\n",
    "                     3:['SEED', 'Eccentricity']}\n",
    "\n",
    "# The seedsOfInterest are a little more involved"
   ]
  },
  {
   "cell_type": "markdown",
   "metadata": {},
   "source": [
    "## 4. Which seeds do I want per file?"
   ]
  },
  {
   "cell_type": "code",
   "execution_count": 6,
   "metadata": {
    "execution": {
     "iopub.execute_input": "2021-10-31T02:54:39.548791Z",
     "iopub.status.busy": "2021-10-31T02:54:39.548473Z",
     "iopub.status.idle": "2021-10-31T02:54:39.553342Z",
     "shell.execute_reply": "2021-10-31T02:54:39.553586Z"
    }
   },
   "outputs": [],
   "source": [
    "### Do not filter out any systems/seeds from SystemParameters\n",
    "\n",
    "seedsSystems = Data['BSE_System_Parameters']['SEED'][()]\n",
    "\n",
    "\n",
    "\n",
    "### Of all the double compact objects, keep only the DNSs\n",
    "\n",
    "DCOs = Data['BSE_Double_Compact_Objects']\n",
    "seedsDCOs       =  DCOs['SEED'][()]\n",
    "\n",
    "typePrimary     =  DCOs['Stellar_Type(1)'][()]\n",
    "typeSecondary   =  DCOs['Stellar_Type(2)'][()]\n",
    "DNSs            =  (typePrimary == 13) & (typeSecondary == 13)\n",
    "\n",
    "seedsDNS        =  seedsDCOs[DNSs]\n",
    "\n",
    "\n",
    "\n",
    "### Filter out disrupted systems\n",
    "\n",
    "SNe  = Data['BSE_Supernovae']\n",
    "seedsSNe     = SNe['SEED']\n",
    "\n",
    "\n",
    "isUnbound    = SNe['Unbound'][()] \n",
    "intact       = (isUnbound == False)\n",
    "\n",
    "seedsIntact  = seedsSNe[intact]\n",
    "\n",
    "\n",
    "\n",
    "### Create seedsOfInterest dictionary -- DOUBLE CHECK ORDER :) \n",
    "\n",
    "seedsOfInterest   = {1:seedsSystems,\\\n",
    "                     2:seedsDCOs,\\\n",
    "                     3:seedsIntact}\n",
    "\n",
    "\n",
    "# Don't forget to close the original h5 data file\n",
    "Data.close()"
   ]
  },
  {
   "cell_type": "markdown",
   "metadata": {},
   "source": [
    "## 5. Call the function that creates the HDF5 file"
   ]
  },
  {
   "cell_type": "code",
   "execution_count": 7,
   "metadata": {
    "execution": {
     "iopub.execute_input": "2021-10-31T02:54:39.557677Z",
     "iopub.status.busy": "2021-10-31T02:54:39.557364Z",
     "iopub.status.idle": "2021-10-31T02:54:39.729257Z",
     "shell.execute_reply": "2021-10-31T02:54:39.728913Z"
    }
   },
   "outputs": [],
   "source": [
    "rewrite_H5.reduceH5(pathToOld = pathToDataInput, pathToNew = pathToDataOutput,\\\n",
    "                     dictFiles=filesOfInterest, dictColumns=columnsOfInterest, dictSeeds=seedsOfInterest)"
   ]
  },
  {
   "cell_type": "code",
   "execution_count": 8,
   "metadata": {
    "execution": {
     "iopub.execute_input": "2021-10-31T02:54:39.731583Z",
     "iopub.status.busy": "2021-10-31T02:54:39.731278Z",
     "iopub.status.idle": "2021-10-31T02:54:39.758874Z",
     "shell.execute_reply": "2021-10-31T02:54:39.759136Z"
    },
    "scrolled": false
   },
   "outputs": [
    {
     "name": "stdout",
     "output_type": "stream",
     "text": [
      "\n",
      "Filename = BSE_Double_Compact_Objects\n",
      "----------------------\n",
      "\t   column name                             unit                length\n",
      "\t   --------------------------------------------------------------------\n",
      "\t   Coalescence_Time                        b'Myr'                 143\n",
      "\t   Eccentricity@DCO                        b'-'                   143\n",
      "\t   Mass(1)                                 b'Msol'                143\n",
      "\t   Mass(2)                                 b'Msol'                143\n",
      "\t   Merges_Hubble_Time                      b'State'               143\n",
      "\t   --------------------------------------------------------------------\n",
      "\t   Recycled_NS(1)                          b'Event'               143\n",
      "\t   Recycled_NS(2)                          b'Event'               143\n",
      "\t   SEED                                    b'-'                   143\n"
     ]
    },
    {
     "name": "stdout",
     "output_type": "stream",
     "text": [
      "\t   SemiMajorAxis@DCO                       b'AU'                  143\n",
      "\t   Stellar_Type(1)                         b'-'                   143\n",
      "\t   --------------------------------------------------------------------\n",
      "\t   Stellar_Type(2)                         b'-'                   143\n",
      "\t   Time                                    b'Myr'                 143\n",
      "\n",
      "Filename = BSE_Supernovae\n",
      "----------------------\n",
      "\t   column name                             unit                length\n",
      "\t   --------------------------------------------------------------------\n",
      "\t   Eccentricity                            b'-'                   2592\n",
      "\t   SEED                                    b'-'                   2592\n",
      "\n",
      "Filename = BSE_System_Parameters\n",
      "----------------------\n",
      "\t   column name                             unit                length\n",
      "\t   --------------------------------------------------------------------\n",
      "\t   CE_Alpha                                b'-'                   50000\n",
      "\t   Eccentricity@ZAMS                       b'-'                   50000\n",
      "\t   Equilibrated_At_Birth                   b'Event'               50000\n",
      "\t   Error                                   b'-'                   50000\n",
      "\t   LBV_Factor                              b'-'                   50000\n",
      "\t   --------------------------------------------------------------------\n",
      "\t   Mass@ZAMS(1)                            b'Msol'                50000\n",
      "\t   Mass@ZAMS(2)                            b'Msol'                50000\n",
      "\t   Merger                                  b'Event'               50000\n",
      "\t   Merger_At_Birth                         b'Event'               50000\n",
      "\t   Metallicity@ZAMS(1)                     b'-'                   50000\n",
      "\t   --------------------------------------------------------------------\n",
      "\t   Metallicity@ZAMS(2)                     b'-'                   50000\n",
      "\t   Omega@ZAMS(1)                           b'Hz'                  50000\n",
      "\t   Omega@ZAMS(2)                           b'Hz'                  50000\n",
      "\t   SEED                                    b'-'                   50000\n",
      "\t   SN_Kick_Magnitude_Random_Number(1)      b'-'                   50000\n",
      "\t   --------------------------------------------------------------------\n",
      "\t   SN_Kick_Magnitude_Random_Number(2)      b'-'                   50000\n",
      "\t   SN_Kick_Mean_Anomaly(1)                 b'-'                   50000\n",
      "\t   SN_Kick_Mean_Anomaly(2)                 b'-'                   50000\n",
      "\t   SN_Kick_Phi(1)                          b'-'                   50000\n",
      "\t   SN_Kick_Phi(2)                          b'-'                   50000\n",
      "\t   --------------------------------------------------------------------\n",
      "\t   SN_Kick_Theta(1)                        b'-'                   50000\n",
      "\t   SN_Kick_Theta(2)                        b'-'                   50000\n",
      "\t   SemiMajorAxis@ZAMS                      b'AU'                  50000\n",
      "\t   Sigma_Kick_CCSN_BH                      b'kms^-1'              50000\n",
      "\t   Sigma_Kick_CCSN_NS                      b'kms^-1'              50000\n",
      "\t   --------------------------------------------------------------------\n",
      "\t   Sigma_Kick_ECSN                         b'kms^-1'              50000\n",
      "\t   Sigma_Kick_USSN                         b'kms^-1'              50000\n",
      "\t   Stellar_Type(1)                         b'-'                   50000\n",
      "\t   Stellar_Type(2)                         b'-'                   50000\n",
      "\t   Stellar_Type@ZAMS(1)                    b'-'                   50000\n",
      "\t   --------------------------------------------------------------------\n",
      "\t   Stellar_Type@ZAMS(2)                    b'-'                   50000\n",
      "\t   Unbound                                 b'State'               50000\n",
      "\t   WR_Factor                               b'-'                   50000\n"
     ]
    }
   ],
   "source": [
    "rewrite_H5.printAllColumnsInH5(pathToDataOutput)"
   ]
  }
 ],
 "metadata": {
  "kernelspec": {
   "display_name": "Python 3",
   "language": "python",
   "name": "python3"
  },
  "language_info": {
   "codemirror_mode": {
    "name": "ipython",
    "version": 3
   },
   "file_extension": ".py",
   "mimetype": "text/x-python",
   "name": "python",
   "nbconvert_exporter": "python",
   "pygments_lexer": "ipython3",
   "version": "3.9.5"
  }
 },
 "nbformat": 4,
 "nbformat_minor": 2
}
