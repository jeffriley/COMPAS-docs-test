{
 "cells": [
  {
   "cell_type": "markdown",
   "metadata": {},
   "source": [
    "# Slicing the data\n",
    "## 1. Introduction\n",
    "\n",
    "The most important number in the COMPAS data is the seed. The seed represents the unique identifier to a specific",
    " system in a simulation. Therefore the properties of a single system can be recovered by looking at seeds in ",
    " different files.\n",
    "\n",
    "Here we introduce the basics of manipulating the data using the seeds. We provide an example on how we get the initial",
    " parameters of systems that ended up forming double compact objects (DCOs).\n",
    "\n",
    "Naively, we might try to use loops with conditions to extract systems of interest to a list. However, this can potentially",
    " be computationally expensive.\n",
    "\n",
    "Here we present a method to more efficiently `slice` the data using boolean masks. These are slightly more involved but",
    " are computationally quick and use intuitive logic.\n",
    "\n",
    "If you do not already have a ``COMPAS_Output.h5`` file ready, you can download some data from",
    " [compas.science](https://compas.science/)"
   ]
  },
  {
   "cell_type": "markdown",
   "metadata": {},
   "source": [
    "***Note:* These cells may take a long time if you test them on large datasets.**"
   ]
  },
  {
   "cell_type": "markdown",
   "metadata": {},
   "source": [
    "### 1.1 Paths\n"
   ]
  },
  {
   "cell_type": "code",
   "execution_count": 241,
   "metadata": {},
   "outputs": [],
   "source": [
    "pathToData = '../COMPAS_Output.h5'"
   ]
  },
  {
   "cell_type": "markdown",
   "metadata": {},
   "source": [
    "### 1.2 Imports"
   ]
  },
  {
   "cell_type": "code",
   "execution_count": 242,
   "metadata": {},
   "outputs": [],
   "source": [
    "#python libraries\n",
    "import numpy as np               # for handling arrays\n",
    "import h5py as h5                # for reading the COMPAS data\n",
    "import time                      # for finding computation time"
   ]
  },
  {
   "cell_type": "code",
   "execution_count": 243,
   "metadata": {},
   "outputs": [
    {
     "name": "stdout",
     "output_type": "stream",
     "text": [
      "\n['BSE_Common_Envelopes', 'BSE_Double_Compact_Objects', 'BSE_Supernovae', 'BSE_System_Parameters']\n"
     ]
    }
   ],
   "source": [
    "Data  = h5.File(pathToData)\n",
    "print(list(Data.keys()))"
   ]
  },
  {
   "cell_type": "markdown",
   "metadata": {},
   "source": [
    "The print statement shows the different files that are combined in your HDF5 file.\n",
    "\n",
    "The system seed links information contained within (e.g.) the BSE_Supernovae file to information in the",
    " BSE_System_Parameters file."
   ]
  },
  {
   "cell_type": "markdown",
   "metadata": {},
   "source": [
    "## 2. Finding the initial total masses of the DCOs\n"
   ]
  },
  {
   "cell_type": "code",
   "execution_count": 244,
   "metadata": {},
   "outputs": [],
   "source": [
    "def calculateTotalMassesNaive(pathData=None):\n",
    "    Data  = h5.File(pathToData)\n",
    "    \n",
    "    totalMasses = []\n",
    "    \n",
    "    #for syntax see section 1 \n",
    "    seedsDCOs     = Data['BSE_Double_Compact_Objects']['SEED'][()]\n",
    "    \n",
    "    #get info from ZAMS\n",
    "    seedsSystems  = Data['BSE_System_Parameters']['SEED'][()]\n",
    "    M1ZAMSs       = Data['BSE_System_Parameters']['Mass@ZAMS(1)'][()]\n",
    "    M2ZAMSs       = Data['BSE_System_Parameters']['Mass@ZAMS(2)'][()]\n",
    "\n",
    "    for seedDCO in seedsDCOs:\n",
    "        for nrseed in range(len(seedsSystems)):\n",
    "            seedSystem = seedsSystems[nrseed]\n",
    "            if seedSystem == seedDCO:\n",
    "                M1 = M1ZAMSs[nrseed]\n",
    "                M2 = M2ZAMSs[nrseed]\n",
    "                Mtot = M1 + M2\n",
    "                totalMasses.append(Mtot)\n",
    "\n",
    "    Data.close()\n",
    "    return totalMasses"
   ]
  },
  {
   "cell_type": "code",
   "execution_count": 245,
   "metadata": {},
   "outputs": [
    {
     "name": "stdout",
     "output_type": "stream",
     "text": [
      "\n0.4106295108795166 seconds, using for loops.\n"
     ]
    }
   ],
   "source": [
    "# calculate function run time\n",
    "start   = time.time()\n",
    "MtotOld = calculateTotalMassesNaive(pathData=pathToData)\n",
    "end     = time.time()\n",
    "timeDiffNaive = end-start\n",
    "\n",
    "print('%s seconds, using for loops.' %(timeDiffNaive)) "
   ]
  },
  {
   "cell_type": "markdown",
   "metadata": {},
   "source": [
    "## 3. Optimizing the above loop using built-in NumPy routines"
   ]
  },
  {
   "cell_type": "markdown",
   "metadata": {},
   "source": [
    "`NumPy` is a comprehensive library of mathematical and array computing tools, underpinned by highly optimised",
    " C-code that provides fast vectorization, indexing, and broadcasting functions. Visit",
    " [numpy.org](https://numpy.org/) for detailed information regarding ``NumPy``.\n",
    "\n",
    "The `NumPy` library provides tools that allow the user to bypass computationally heavy loops. For example, we",
    " can speed up the calculation of the element-wise sum of two arrays with:"
   ]
  },
  {
   "cell_type": "code",
   "execution_count": 246,
   "metadata": {},
   "outputs": [],
   "source": [
    "M1ZAMS  = Data['BSE_System_Parameters']['Mass@ZAMS(1)'][()]\n",
    "M2ZAMS  = Data['BSE_System_Parameters']['Mass@ZAMS(2)'][()]\n",
    "    \n",
    "mTotalAllSystems  = np.add(M1ZAMS, M2ZAMS)"
   ]
  },
  {
   "cell_type": "markdown",
   "metadata": {},
   "source": [
    "## 4. Using boolean masks in a single file"
   ]
  },
  {
   "cell_type": "markdown",
   "metadata": {},
   "source": [
    "There is a useful trick for when you want only those elements which satisfy a specific condition. Where previously",
    " we put the condition in an if statement nested within a for loop, now we will use an array of booleans to mask out",
    " the undesired elements.\n",
    "\n",
    "The boolean array will have the same length as the input array, with:"
   ]
  },
  {
   "cell_type": "code",
   "execution_count": 247,
   "metadata": {},
   "outputs": [],
   "source": [
    "# Create a boolean array from the total mass array which is True\n",
    "# if the total mass of the corrresponding system is less than 40. \n",
    "\n",
    "maskMtot = (mTotalAllSystems <= 40)"
   ]
  },
  {
   "cell_type": "markdown",
   "metadata": {},
   "source": [
    "Crucially, you can apply this mask to all other columns in the same file because, by construction, they all have the",
    " same length."
   ]
  },
  {
   "cell_type": "code",
   "execution_count": 248,
   "metadata": {},
   "outputs": [],
   "source": [
    "# seeds of systems with total mass below 40\n",
    "seeds  = Data['SystemParameters']['SEED'][()]\n",
    "seedsMtotBelow40 = seeds[maskMtot]"
   ]
  },
  {
   "cell_type": "markdown",
   "metadata": {},
   "source": [
    "Note that this works because the order of the two columns (seeds and total masses) are the same. For example, the",
    " total mass of the third system entry corresponds to the seed at the third system entry."
   ]
  },
  {
   "cell_type": "markdown",
   "metadata": {},
   "source": [
    "## 5. Using seeds as masks between files"
   ]
  },
  {
   "cell_type": "markdown",
   "metadata": {},
   "source": [
    "### 5.1 Example 1\n",
    "\n",
    "Before we continue it is useful to understand how the COMPAS printing works.\n",
    "\n",
    "Each simulated system will be initialized only once and so will have only one line in the `BSE_System_Parameters`",
    " file. However, lines in the `BSE_Common_Envelopes` file are created whenever a system goes through a common envelope",
    " (CE) event, which might happen multiple times for a single system, or potentially not at all. Similarly, in the",
    " `BSE_Supernovae` file, you will find at most two lines per system, but possibly none. `BSE_Double_Compact_Object`",
    " file lines are printed only when both remnants are either neutron stars or black holes (but disrupted systems are",
    " also included), which happens at most once per system.\n",
    "\n",
    "For this reason, it is in general not the case that the system on line $n$ of one file corresponds to the system on",
    " line $n$ of another file.\n",
    "\n",
    "In order to match systems across files, we need to extract the seeds of desired systems from one file, and apply them",
    " as a mask in the other file."
   ]
  },
  {
   "cell_type": "code",
   "execution_count": 249,
   "metadata": {},
   "outputs": [
    {
     "name": "stdout",
     "output_type": "stream",
     "text": [
      "\n[False  True False  True]\n",
      "[2 4]\n",
      "[20 45]\n"
     ]
    }
   ],
   "source": [
    "# example mock data from two files\n",
    "SystemSeeds = np.array([1,  2,  3,  4 ])\n",
    "SystemMass1 = np.array([1, 20,  5, 45 ])\n",
    "DCOSeeds    = np.array([    2,      4 ])\n",
    "\n",
    "# Calculate mask for which elements of SystemSeeds are found in DCOSeeds - see numpy.in1d documentation for details\n",
    "mask = np.in1d(SystemSeeds, DCOSeeds)\n",
    "\n",
    "print(mask)\n",
    "print(SystemSeeds[mask])\n",
    "print(SystemMass1[mask])"
   ]
  },
  {
   "cell_type": "markdown",
   "metadata": {},
   "source": [
    "### 5.2 Optimized loop"
   ]
  },
  {
   "cell_type": "code",
   "execution_count": 250,
   "metadata": {},
   "outputs": [],
   "source": [
    "def calculateTotalMassesOptimized(pathData=None):\n",
    "    Data  = h5.File(pathToData)\n",
    "    \n",
    "    totalMasses = []\n",
    "    \n",
    "    #for syntax see section 1 with basic syntax\n",
    "    seedsDCOs     = Data['DoubleCompactObjects']['SEED'][()]\n",
    "    #get info from ZAMS\n",
    "    seedsSystems  = Data['BSE_System_Parameters']['SEED'][()]\n",
    "    M1ZAMSs       = Data['BSE_System_Parameters']['Mass@ZAMS(1)'][()]\n",
    "    M2ZAMSs       = Data['BSE_System_Parameters']['Mass@ZAMS(2)'][()]\n",
    "    \n",
    "    MZAMStotal    = np.add(M1ZAMS, M2ZAMS)\n",
    "    \n",
    "    maskSeedsBecameDCO  = np.in1d(seedsSystems, seedsDCOs)\n",
    "    totalMassZAMSDCO    = MZAMStotal[maskSeedsBecameDCO]\n",
    "    \n",
    "    Data.close()\n",
    "    return totalMassZAMSDCO"
   ]
  },
  {
   "cell_type": "code",
   "execution_count": 251,
   "metadata": {},
   "outputs": [
    {
     "name": "stdout",
     "output_type": "stream",
     "text": [
      "Compare\n",
      "0.3999161720275879 seconds, using Optimizations.\n",
      "0.4106295108795166 seconds, using For Loops.\n",
      "Using 697 DCO systems\n"
     ]
    }
   ],
   "source": [
    "# calculate function run time\n",
    "start   = time.time()\n",
    "MtotNew = calculateTotalMassesNaive(pathData=pathToData)\n",
    "end     = time.time()\n",
    "timeDiffOptimized = end-start\n",
    "\n",
    "# calculate number of Double Compact Objects\n",
    "nrDCOs = len(Data['DoubleCompactObjects']['SEED'][()])\n",
    "\n",
    "print('Compare')\n",
    "print('%s seconds, using Optimizations.' %(timeDiffOptimized)) \n",
    "print('%s seconds, using For Loops.'     %(timeDiffNaive)) \n",
    "print('Using %s DCO systems'             %(nrDCOs))"
   ]
  },
  {
   "cell_type": "markdown",
   "metadata": {},
   "source": [
    "*Note:* The time difference will depend on the number of systems under investigation, as well as the number of bypassed loops."
   ]
  },
  {
   "cell_type": "code",
   "execution_count": 252,
   "metadata": {},
   "outputs": [
    {
     "name": "stdout",
     "output_type": "stream",
     "text": [
      "True\n"
     ]
    }
   ],
   "source": [
    "# test that the two arrays are in fact identical\n",
    "print(np.array_equal(MtotOld, MtotNew))"
   ]
  },
  {
   "cell_type": "markdown",
   "metadata": {},
   "source": [
    "Note that the above loop can easily be expanded with more conditions.\n",
    "\n",
    "If you do not want all the DCO initial total masses but only of the double neutron stars, then you just need",
    " to apply another mask to the `seedsDCOs`."
   ]
  },
  {
   "cell_type": "code",
   "execution_count": 253,
   "metadata": {},
   "outputs": [],
   "source": [
    "def calculateTotalMassesDNS(pathToData=None):\n",
    "    Data  = h5.File(pathToData)\n",
    "    \n",
    "    totalMasses = []\n",
    "    \n",
    "    #for syntax see section 1 with basic syntax\n",
    "    seedsDCOs     = Data['BSE_Double_Compact_Objects']['SEED'][()]\n",
    "    type1         = Data['BSE_Double_Compact_Objects']['Stellar_Type(1)'][()]\n",
    "    type2         = Data['BSE_Double_Compact_Objects']['Stellar_Type(2)'][()]\n",
    "    maskDNS       = (type1 == 13) & (type2 == 13)\n",
    "    seedsDNS      = seedsDCOs[maskDNS]\n",
    "    \n",
    "    #get info from ZAMS\n",
    "    seedsSystems  = Data['BSE_System_Parameters']['SEED'][()]\n",
    "    M1ZAMSs       = Data['BSE_System_Parameters']['Mass@ZAMS(1)'][()]\n",
    "    M2ZAMSs       = Data['BSE_System_Parameters']['Mass@ZAMS(2)'][()]\n",
    "    \n",
    "    MZAMStotal    = np.add(M1ZAMS, M2ZAMS)\n",
    "    \n",
    "    \n",
    "    maskSeedsBecameDNS  = np.in1d(seedsSystems, seedsDNS)\n",
    "    totalMassZAMSDNS    = MZAMStotal[maskSeedsBecameDNS]\n",
    "    \n",
    "    Data.close()\n",
    "    return totalMassZAMSDNS\n"
   ]
  },
  {
   "cell_type": "code",
   "execution_count": 254,
   "metadata": {},
   "outputs": [
    {
     "name": "stdout",
     "output_type": "stream",
     "text": [
      "\n0.0014612674713134766 seconds for all 310 DNS systems.\n"
     ]
    }
   ],
   "source": [
    "# calculate function run time\n",
    "start   = time.time()\n",
    "MtotDNS = calculateTotalMassesDNS(pathToData=pathToData)\n",
    "end     = time.time()\n",
    "timeDiffDNS = end-start\n",
    "\n",
    "# calculate number of DNS systems\n",
    "nrDNSs = len(MtotDNS)\n",
    "    \n",
    "print('%s seconds for all %s DNS systems.' %(timeDiffDNS, nrDNSs)) "
   ]
  },
  {
   "cell_type": "markdown",
   "metadata": {},
   "source": [
    "### 5.3 Example 2\n",
    "\n",
    "The previous example uses the fact that both ``BSE_System_Parameters`` and ``BSE_Double_Compact_Objects`` only",
    " contain at most one line per system. However, as mentioned above, events such as supernovae or common envelopes",
    " might happen multiple times to a given system, and as a result there would be multiple occurences of a given seed",
    " in the relevant file. \n",
    "\n",
    "To account for this, we will need to modify the previous method. Consider again the 4 seeds of the previous example.",
    " Both 2 and 4 formed a DCO, and hence both stars in these binaries went SN. Seeds 1 and 3 are low mass stars hence",
    " they did not go SN. (Note that we do not specify the companion masses for any of these systems, but for simplicity",
    " we assume that the companions to 1 and 3 are also sufficiently low mass to not produce a supernova). The",
    " ``BSE_Supernovae`` file contains one line per SN and therefore seeds 2 and 4 appear twice each.\n",
    "\n",
    "Imagine you want the primary masses of systems that experienced at any point a core collapse supernova (CCSN). We'll",
    " reuse our mock data, with additional information about the types of SN which occured in each star. Here, PPISN refers",
    " to Pulsational Pair Instability Supernovae."
   ]
  },
  {
   "cell_type": "code",
   "execution_count": 255,
   "metadata": {
    "scrolled": true
   },
   "outputs": [
    {
     "name": "stdout",
     "output_type": "stream",
     "text": [
      "\nCCSN seeds =[2 2 4]\n",
      "[20 45]\n"
     ]
    }
   ],
   "source": [
    "# example mock data from above\n",
    "SystemSeeds = np.array([1,  2,  3,  4 ])\n",
    "SystemMass1 = np.array([1, 20,  5, 45 ])\n",
    "DCOSeeds    = np.array([    2,      4 ])\n",
    "\n",
    "SNSeeds     = np.array([     2,      2,      4,       4 ])  \n",
    "SNTypes     = np.array(['CCSN', 'CCSN', 'CCSN', 'PPISN' ])\n",
    "\n",
    "# get seeds which had a CCSN\n",
    "maskCCSN  = SNTypes == 'CCSN'\n",
    "seedsCCSN = SNSeeds[maskCCSN]\n",
    "print('CCSN seeds =%s' %(seedsCCSN))\n",
    "\n",
    "#compare which element of 1-d array are in other\n",
    "#this because in \n",
    "\n",
    "seedsCCSN = np.unique(seedsCCSN)\n",
    "# in this particular case, it is not necessary to reduce seedsCCSN to it's unique entries.\n",
    "# the numpy.in1d function will work with duplicate seeds, but we include it explicitly here\n",
    "# as other more complicated scenarios might rely on unique sets of seeds\n",
    "\n",
    "mask = np.in1d(SystemSeeds, seedsCCSN)\n",
    "print(SystemMass1[mask])"
   ]
  },
  {
   "cell_type": "code",
   "execution_count": 256,
   "metadata": {},
   "outputs": [],
   "source": [
    "# Always remember to close your data file\n",
    "Data.close()"
   ]
  }
 ],
 "metadata": {
  "kernelspec": {
   "display_name": "Python 3",
   "language": "python",
   "name": "python3"
  },
  "language_info": {
   "codemirror_mode": {
    "name": "ipython",
    "version": 3
   },
   "file_extension": ".py",
   "mimetype": "text/x-python",
   "name": "python",
   "nbconvert_exporter": "python",
   "pygments_lexer": "ipython3",
   "version": "3.6.5"
  }
 },
 "nbformat": 4,
 "nbformat_minor": 2
}


