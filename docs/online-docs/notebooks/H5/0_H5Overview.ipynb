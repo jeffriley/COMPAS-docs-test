{
 "cells": [
  {
   "cell_type": "markdown",
   "metadata": {},
   "source": [
    "# HDF5 files\n",
    "## 1. Introduction\n",
    "\n",
    "COMPAS simulations produce a collection of human-readable `CSV`/`TXT` data files with data. Each file",
    " represents a type of data/physics and containts a series of columns representing parameters of interest.\n",
    "\n",
    "We convert these data files into a single non-human-readable `HDF5` file which is more compact and",
    " easier to share and handle in a memory efficient way.\n",
    "\n",
    "\n",
    "## 2. Material\n",
    "\n",
    "### 2.1 [Creating an HDF5 file:](./1_creatingH5.ipynb)\n",
    "How to combine raw `CSV`/`TXT` files data into a single `HDF5` file.\n",
    "        \n",
    "        \n",
    "### 2.2 [Reading an HDF5 file:](./2_readingH5.ipynb)\n",
    "The basics and syntax of loading an `HDF5` file.\n",
    "        \n",
    "        \n",
    "### 2.3 [(Re-)writing an HDF5 file:](./3_rewritingH5.ipynb)\n",
    "How to rewrite/reduce the `HDF5` data."
   ]
  }
 ],
 "metadata": {
  "kernelspec": {
   "display_name": "Python 3 (ipykernel)",
   "language": "python",
   "name": "python3"
  },
  "language_info": {
   "codemirror_mode": {
    "name": "ipython",
    "version": 3
   },
   "file_extension": ".py",
   "mimetype": "text/x-python",
   "name": "python",
   "nbconvert_exporter": "python",
   "pygments_lexer": "ipython3",
   "version": "3.9.5"
  }
 },
 "nbformat": 4,
 "nbformat_minor": 2
}
