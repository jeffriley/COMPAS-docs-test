{
 "cells": [
  {
   "cell_type": "markdown",
   "metadata": {},
   "source": [
    "# Convert CSV files to HDF5\n",
    "## 1. Introduction\n",
    "\n",
    "COMPAS can produce log files in several formats:\n",
    "\n",
    "- Hierarchical Data Format version 5 (`HDF5`)\n",
    "\n",
    "- Comma Separated Values (`CSV`)\n",
    "\n",
    "- Tab Separated Values (`TSV`)\n",
    "\n",
    "- Plain text: space separated values (`TXT`)\n",
    "\n",
    "Here we show an example of how to combine the data of a COMPAS simulation that produced multiple non-``HDF5``",
    " files into a single `HDF5` file using the `postProcessing` script in the `postProcessing` directory. \n",
    "\n",
    "*Notes:*\n",
    "\n",
    "- The script can also be called from terminal (for more info read the script). Here we show how to call",
    "  it from another script such as an ipython notebook.",
    "\n",
    "- You will need to have run COMPAS at least once, and produced output files with some content, in order",
    "  to use this."
   ]
  },
  {
   "cell_type": "markdown",
   "metadata": {},
   "source": [
    "### 1.1 Imports"
   ]
  },
  {
   "cell_type": "code",
   "execution_count": 26,
   "metadata": {},
   "outputs": [],
   "source": [
    "import sys   # for adding path python Script to python environment\n",
    "import os    # for handling paths\n",
    "#Note that the script has its own imports\n",
    "\n",
    "# Set the path to the data conversion script and import the script\n",
    "compasRootDir = os.environ['COMPAS_ROOT_DIR']  # This environment variable should already be set if you've successfully run COMPAS\n",
    "defaultsFolder = compasRootDir + 'postProcessing/'\n",
    "\n",
    "sys.path.append(defaultsFolder)\n",
    "\n",
    "import postProcessing as postProc\n"
   ]
  },
  {
   "cell_type": "markdown",
   "metadata": {
    "collapsed": true
   },
   "source": [
    "## 2. User-Specified Options"
   ]
  },
  {
   "cell_type": "markdown",
   "metadata": {},
   "source": [
    "The following parameters are set to their defaults in the postProcessing.py script, but the user should adjust",
    " them as needed.\n",
    "\n",
    "### 2.1 dataRootDir\n",
    "The path to the data files depends on whether the simulation used regular or HPC COMPAS.\n",
    "\n",
    "1 - Regular COMPAS uses a single core which creates one `COMPAS_Output` folder with all the data files.",
    "    Set *dataRootDir* to this folder.\n",
    "    \n",
    "2 - HPC COMPAS splits the run over multiple cores and produces one `COMPAS_Output` folder per core. Set",
    "    *dataRootDir* to the parent directory of the output folders. A *tree walker* will grab and collect the",
    "    data in the subdirectories.\n",
    "\n",
    "### 2.2 prefix, delimiter, extension\n",
    "The file prefixes and extensions, and data delimiters, can be set as desired in the `pythonSubmit`. The values",
    " here need to match those settings.\n",
    "\n",
    "### 2.3 h5name\n",
    "The desired name of the `HDF5` file that will be created."
   ]
  },
  {
   "cell_type": "code",
   "execution_count": 27,
   "metadata": {},
   "outputs": [],
   "source": [
    "dataRootDir    = '.'                # Location of root directory of the data     # defaults to '.'            \n",
    "prefix         = 'BSE_'             # Prefix of the data files                   # defaults to 'BSE_'  \n",
    "delimiter      = ','                # Delimeter used in the output csv files     # defaults to ','        \n",
    "extension      = 'csv'              # Extension of the data files                # defaults to 'csv'\n",
    "h5Name         = 'COMPAS_Output.h5' # Name of the output h5 file                 # defaults to 'COMPAS_Output.h5' "
   ]
  },
  {
   "cell_type": "markdown",
   "metadata": {},
   "source": [
    "### 2.4 filesToCombine\n",
    "\n",
    "This parameter determines which COMPAS output files the user would like to include in the `HDF5` file. To select",
    " only certain output files, uncomment them appropriately (and comment the first line).\n",
    "\n",
    "*Note:* If a COMPAS run is small enough, a given output file might not be produced (if, for example, there are no",
    " double compact objects formed there will be no `BSE_Double_Compact_Objects` file)."
   ]
  },
  {
   "cell_type": "code",
   "execution_count": 28,
   "metadata": {},
   "outputs": [],
   "source": [
    "filesToCombine = None    # default None means to use all of them (apologies if that's counterintuitive...)\n",
    "\n",
    "#filesToCombine = [\\\n",
    "#    'SystemParameters',\\\n",
    "#    'CommonEnvelopes',\\\n",
    "#    'DoubleCompactObjects',\\\n",
    "#    'Supernovae',\\\n",
    "#    'RLOF',\\\n",
    "#    'errors',\\            \n",
    "#    'output'\\\n",
    "#]  "
   ]
  },
  {
   "cell_type": "markdown",
   "metadata": {},
   "source": [
    "## 3. Remarks\n",
    "\n",
    "Because the script copies and combines all the data into new `CSV` files, you will need a similar amount of",
    " available space in order to create these files. They will automatically be removed after the `HDF5` file",
    " is created.\n",
    "\n",
    "The `HDF5` file will be placed in the same directory as the path given. \n",
    "\n",
    "The final `HDF5` file groups and contents are printed to `stdout`."
   ]
  },
  {
   "cell_type": "markdown",
   "metadata": {},
   "source": [
    "## 4. Example\n"
   ]
  },
  {
   "cell_type": "code",
   "execution_count": null,
   "metadata": {
    "scrolled": false
   },
   "outputs": [],
   "source": [
    "postProc.main(dataRootDir    = dataRootDir, \\\n",
    "              prefix         = prefix,      \\\n",
    "              delimiter      = delimiter,   \\\n",
    "              extension      = extension,   \\\n",
    "              h5Name         = h5Name,      \\\n",
    "              filesToCombine = filesToCombine)"
   ]
  }
 ],
 "metadata": {
  "kernelspec": {
   "display_name": "Python 3",
   "language": "python",
   "name": "python3"
  },
  "language_info": {
   "codemirror_mode": {
    "name": "ipython",
    "version": 3
   },
   "file_extension": ".py",
   "mimetype": "text/x-python",
   "name": "python",
   "nbconvert_exporter": "python",
   "pygments_lexer": "ipython3",
   "version": "3.6.5"
  }
 },
 "nbformat": 4,
 "nbformat_minor": 2
}
